{
 "cells": [
  {
   "cell_type": "code",
   "execution_count": 103,
   "metadata": {},
   "outputs": [],
   "source": [
    "from parse import parse"
   ]
  },
  {
   "cell_type": "code",
   "execution_count": 104,
   "metadata": {},
   "outputs": [],
   "source": [
    "def CountOne(cube,L):\n",
    "    \n",
    "    c = 0\n",
    "    \n",
    "    for i in range(0,L):\n",
    "        \n",
    "        for j in range(0,L):\n",
    "            \n",
    "            for k in range(0,L):\n",
    "                \n",
    "                if cube[i][j][k] == 1:\n",
    "                    \n",
    "                    c += 1\n",
    "                \n",
    "    return c\n",
    "\n",
    "def Overlap(input_cube, cubes, on_boxes, c):\n",
    "    \n",
    "    intersection_cubes = []\n",
    "    \n",
    "    x_m,x_M,y_m,y_M,z_m,z_M = input_cube[0],input_cube[1],input_cube[2],input_cube[3],input_cube[4],input_cube[5]    \n",
    "\n",
    "    for cube in cubes:\n",
    "\n",
    "            if CheckOverlap(cube[0],cube[1],x_m,x_M) == True and CheckOverlap(cube[2],cube[3],y_m,y_M) == True and CheckOverlap(cube[4],cube[5],z_m,z_M) == True:\n",
    "                \n",
    "                x_m_o = max(cube[0],x_m)\n",
    "                x_M_o = min(cube[1],x_M)\n",
    "\n",
    "                y_m_o = max(cube[2],y_m)\n",
    "                y_M_o = min(cube[3],y_M)\n",
    "\n",
    "                z_m_o = max(cube[4],z_m)\n",
    "                z_M_o = min(cube[5],z_M)\n",
    "\n",
    "                on_boxes += c*(x_M_o - x_m_o + 1)*(y_M_o - y_m_o + 1)*(z_M_o - z_m_o + 1)\n",
    "                    \n",
    "                intersection_cube = [x_m_o,x_M_o,y_m_o,y_M_o,z_m_o,z_M_o]\n",
    "            \n",
    "                intersection_cubes.append(intersection_cube)\n",
    "                \n",
    "    c *= -1\n",
    "    \n",
    "    while len(intersection_cubes) > 1:\n",
    "        \n",
    "        cube = intersection_cubes.pop(0)\n",
    "        \n",
    "        on_boxes = Overlap(cube, intersection_cubes, on_boxes, c)\n",
    "\n",
    "    return on_boxes\n",
    "\n",
    "def CheckOverlap(a1,a2,b1,b2):\n",
    "    \n",
    "    if ( a2 <= b2 and a2 >= b1 ) or ( b2 <= a2 and b2 >= a1 ):\n",
    "        \n",
    "        return True\n",
    "    \n",
    "    else:\n",
    "        \n",
    "        return False\n",
    "\n",
    "    \n",
    "    "
   ]
  },
  {
   "cell_type": "code",
   "execution_count": 105,
   "metadata": {},
   "outputs": [],
   "source": [
    "f = open('input22.txt')\n",
    "\n",
    "lines = f.readlines()\n",
    "lines.reverse()"
   ]
  },
  {
   "cell_type": "code",
   "execution_count": 106,
   "metadata": {},
   "outputs": [
    {
     "name": "stdout",
     "output_type": "stream",
     "text": [
      "There are 1206644425246111 boxes turned on\n"
     ]
    }
   ],
   "source": [
    "cubes = []\n",
    "on_boxes = 0\n",
    "\n",
    "for line in lines:\n",
    "\n",
    "    line = line.split(' ')\n",
    "    instruction = line[0]\n",
    "    x_m, x_M, y_m, y_M, z_m, z_M = parse('x={:d}..{:d},y={:d}..{:d},z={:d}..{:d}', line[1])\n",
    "    \n",
    "    cube = [x_m,x_M,y_m,y_M,z_m,z_M]\n",
    "    \n",
    "    if instruction == 'on':\n",
    "        \n",
    "        on_boxes += (x_M - x_m + 1)*(y_M - y_m + 1)*(z_M - z_m + 1)\n",
    "        \n",
    "        on_boxes = Overlap(cube, cubes, on_boxes, -1)\n",
    "        \n",
    "    cubes.append(cube)\n",
    "        \n",
    "print('There are ' + str(on_boxes) + ' boxes turned on')"
   ]
  },
  {
   "cell_type": "code",
   "execution_count": 97,
   "metadata": {},
   "outputs": [],
   "source": []
  },
  {
   "cell_type": "code",
   "execution_count": null,
   "metadata": {},
   "outputs": [],
   "source": []
  },
  {
   "cell_type": "code",
   "execution_count": null,
   "metadata": {},
   "outputs": [],
   "source": []
  },
  {
   "cell_type": "code",
   "execution_count": null,
   "metadata": {},
   "outputs": [],
   "source": []
  }
 ],
 "metadata": {
  "kernelspec": {
   "display_name": "Python 3",
   "language": "python",
   "name": "python3"
  },
  "language_info": {
   "codemirror_mode": {
    "name": "ipython",
    "version": 3
   },
   "file_extension": ".py",
   "mimetype": "text/x-python",
   "name": "python",
   "nbconvert_exporter": "python",
   "pygments_lexer": "ipython3",
   "version": "3.8.3"
  }
 },
 "nbformat": 4,
 "nbformat_minor": 4
}
