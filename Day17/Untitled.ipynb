{
 "cells": [
  {
   "cell_type": "code",
   "execution_count": 73,
   "id": "0724f24e",
   "metadata": {},
   "outputs": [],
   "source": [
    "from parse import parse\n",
    "\n",
    "class trench:\n",
    "    \n",
    "    def __init__(self, x_min, x_max, y_min, y_max):\n",
    "        self.x_min  = x_min\n",
    "        self.x_max = x_max\n",
    "        self.y_min  = y_min\n",
    "        self.y_max = y_max\n",
    "        \n",
    "   "
   ]
  },
  {
   "cell_type": "code",
   "execution_count": 74,
   "id": "c4bb2b12",
   "metadata": {},
   "outputs": [],
   "source": [
    "f = open('input17.txt')\n",
    "\n",
    "l = f.readline()\n",
    "l = l.rstrip()\n",
    "\n",
    "x_min,x_max,y_min,y_max = parse('target area: x={:d}..{:d}, y={:d}..{:d}',l)\n",
    "\n",
    "t = trench(x_min, x_max, y_min, y_max)"
   ]
  },
  {
   "cell_type": "code",
   "execution_count": 75,
   "id": "abb1643f",
   "metadata": {},
   "outputs": [],
   "source": [
    "def CheckTrajectory(x,y,vx,vy,trench):\n",
    "\n",
    "    valid = 0\n",
    "    i = 0\n",
    "    \n",
    "    while x <= trench.x_max and y >= trench.y_min:\n",
    "        \n",
    "        y += vy - i\n",
    "        x += max([vx-i,0])\n",
    "        i += 1\n",
    "\n",
    "        if x>= trench.x_min and x<= trench.x_max and y>= trench.y_min and y<= trench.y_max:\n",
    "\n",
    "                valid = 1\n",
    "\n",
    "    return valid\n",
    "\n",
    "def Height(vy):\n",
    "\n",
    "    h = 0\n",
    "    \n",
    "    if vy < 0:\n",
    "        \n",
    "        return h\n",
    "    \n",
    "    else:\n",
    "\n",
    "        while vy != 0:\n",
    "            \n",
    "            h += vy\n",
    "            vy -= 1\n",
    "        \n",
    "        return h"
   ]
  },
  {
   "cell_type": "code",
   "execution_count": 80,
   "id": "8bc6bad9",
   "metadata": {},
   "outputs": [],
   "source": [
    "max_vx = t.x_max\n",
    "min_vy = t.y_min\n",
    "max_vy = 300 #FindMaxVy()\n",
    "\n",
    "v_valid = []\n",
    "\n",
    "for vx in range(0,max_vx + 1):\n",
    "    \n",
    "    for vy in range(min_vy, max_vy):\n",
    "        \n",
    "        valid = CheckTrajectory(0,0,vx,vy,t)\n",
    "        \n",
    "        if valid == 1:\n",
    "            \n",
    "            v_valid.append( (vx,vy))\n",
    "            "
   ]
  },
  {
   "cell_type": "code",
   "execution_count": 81,
   "id": "a9e98c82",
   "metadata": {},
   "outputs": [
    {
     "name": "stdout",
     "output_type": "stream",
     "text": [
      "The maximum height is 9180\n",
      "The possible velocities are 3767\n"
     ]
    }
   ],
   "source": [
    "h = []\n",
    "for (vx,vy) in v_valid:\n",
    "    \n",
    "    h.append( Height(vy) )\n",
    "    \n",
    "print('The maximum height is ' + str(max(h)))\n",
    "print('The possible velocities are ' + str(len(v_valid)))"
   ]
  },
  {
   "cell_type": "code",
   "execution_count": null,
   "id": "caf611e3",
   "metadata": {},
   "outputs": [],
   "source": []
  }
 ],
 "metadata": {
  "kernelspec": {
   "display_name": "Python 3",
   "language": "python",
   "name": "python3"
  },
  "language_info": {
   "codemirror_mode": {
    "name": "ipython",
    "version": 3
   },
   "file_extension": ".py",
   "mimetype": "text/x-python",
   "name": "python",
   "nbconvert_exporter": "python",
   "pygments_lexer": "ipython3",
   "version": "3.8.8"
  }
 },
 "nbformat": 4,
 "nbformat_minor": 5
}
