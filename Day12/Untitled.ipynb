{
 "cells": [
  {
   "cell_type": "code",
   "execution_count": 245,
   "metadata": {},
   "outputs": [],
   "source": [
    "def Exploration(paths, cave, neighbors, max_visit_single, max_visit_all): \n",
    "\n",
    "#receive a list of (even uncompleted) paths and adds all the possible valid steps to them, thus generating a new list of paths\n",
    "# max_visit variables is the maximum number of time that a single or all small caves can be visited    \n",
    "    \n",
    "    new_paths = []\n",
    "    \n",
    "    for path in paths:\n",
    "        \n",
    "        end_point = path[-1]\n",
    "        \n",
    "        if end_point == 'end': #if the path reach the end, just add it to the list of updated paths\n",
    "            \n",
    "            new_paths.append(path)\n",
    "        \n",
    "        else:\n",
    "        \n",
    "            i = cave.index(end_point) #find the index corresponding to the last point in the path\n",
    "\n",
    "            for neigh in neighbors[i]: #loop through the neighbors of the last point in the path\n",
    "\n",
    "                new_path = path + [neigh] #add the neighbor to the path\n",
    "\n",
    "                if IsValid(new_path, max_visit_single, max_visit_all) == True: #check if the new path is valid\n",
    "\n",
    "                    new_paths.append(new_path) #add the new path to the list of updated paths\n",
    "\n",
    "    return new_paths\n",
    "        \n",
    "    \n",
    "def IsValid(new_path, max_visit_single, max_visit_all):\n",
    "    #Check if a path is valid, given that a single small cave must be visited at most max_visit_single times, and all the other at most max_visit_all times\n",
    "    \n",
    "    max_visit = max_visit_single #set a max visit number \n",
    "    \n",
    "    read = [] #list of already examined caves\n",
    "    \n",
    "    for c in new_path:\n",
    "        \n",
    "        if c not in read:\n",
    "        \n",
    "            if c.isupper() == False: #check if c is a small cave (lowercase)\n",
    "\n",
    "                if c in ['start', 'end']: #start and end can be visited only once\n",
    "\n",
    "                    if new_path.count(c) > max_visit_all:\n",
    "\n",
    "                        return False\n",
    "\n",
    "                elif new_path.count(c) > max_visit: #signal an invalid path \n",
    "\n",
    "                    return False\n",
    "\n",
    "                elif new_path.count(c) == max_visit_single: #if this is the first (and only) cave visited at most max_visit_all times, the cutoff for all the visits become max_visit_all\n",
    "\n",
    "                    max_visit = max_visit_all\n",
    "                    \n",
    "            read.append(c)\n",
    "        \n",
    "    return True\n",
    "\n",
    "\n",
    "def CheckEnd(paths): #Check if all the paths in the list reach the end\n",
    "    \n",
    "    for path in paths:\n",
    "        \n",
    "        c = path[-1]\n",
    "        \n",
    "        if c != 'end':\n",
    "            \n",
    "            return False\n",
    "        \n",
    "    return True\n",
    "            \n",
    "                "
   ]
  },
  {
   "cell_type": "code",
   "execution_count": 246,
   "metadata": {},
   "outputs": [],
   "source": [
    "cave = []\n",
    "neighbors = []\n",
    "\n",
    "with open('input12.txt') as f:\n",
    "    \n",
    "    lines = f.readlines()\n",
    "    \n",
    "    for line in lines:\n",
    "        line = line.rstrip()\n",
    "        line = line.split('-')\n",
    "\n",
    "        for i in range(0,2):\n",
    "\n",
    "            c1 = line[i]\n",
    "            c2 = line[(i+1)%2]\n",
    "\n",
    "            if c1 not in cave:\n",
    "                cave.append(c1)\n",
    "                neighbors.append( [c2] )\n",
    "\n",
    "            else:\n",
    "\n",
    "                j = cave.index(c1)\n",
    "                neighbors[j].append(c2)"
   ]
  },
  {
   "cell_type": "code",
   "execution_count": 247,
   "metadata": {},
   "outputs": [
    {
     "name": "stdout",
     "output_type": "stream",
     "text": [
      "There are 3708 paths that visit each small cave at most once\n",
      "There are 93858 paths that visit a single small cave at most twice and all the other small caves at most once\n"
     ]
    }
   ],
   "source": [
    "paths = [ ['start'] ] #collects vald paths in a list which has only the initial position at the beginning\n",
    "\n",
    "while not CheckEnd(paths): #Iterate until all paths reach the end\n",
    "    \n",
    "    paths = Exploration(paths, cave, neighbors, 1, 1) #update the paths\n",
    "        \n",
    "print('There are ' + str(len(paths)) + ' paths that visit each small cave at most once')\n",
    "\n",
    "paths = [ ['start'] ]\n",
    "\n",
    "while not CheckEnd(paths):\n",
    "    \n",
    "    paths = Exploration(paths, cave, neighbors, 2, 1)\n",
    "    \n",
    "print('There are ' + str(len(paths)) + ' paths that visit a single small cave at most twice and all the other small caves at most once')\n"
   ]
  },
  {
   "cell_type": "code",
   "execution_count": 152,
   "metadata": {},
   "outputs": [
    {
     "name": "stdout",
     "output_type": "stream",
     "text": [
      "[1]\n"
     ]
    }
   ],
   "source": []
  },
  {
   "cell_type": "code",
   "execution_count": 47,
   "metadata": {},
   "outputs": [
    {
     "data": {
      "text/plain": [
       "3"
      ]
     },
     "execution_count": 47,
     "metadata": {},
     "output_type": "execute_result"
    }
   ],
   "source": []
  },
  {
   "cell_type": "code",
   "execution_count": null,
   "metadata": {},
   "outputs": [],
   "source": []
  }
 ],
 "metadata": {
  "kernelspec": {
   "display_name": "Python 3",
   "language": "python",
   "name": "python3"
  },
  "language_info": {
   "codemirror_mode": {
    "name": "ipython",
    "version": 3
   },
   "file_extension": ".py",
   "mimetype": "text/x-python",
   "name": "python",
   "nbconvert_exporter": "python",
   "pygments_lexer": "ipython3",
   "version": "3.8.3"
  }
 },
 "nbformat": 4,
 "nbformat_minor": 4
}
