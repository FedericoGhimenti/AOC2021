{
 "cells": [
  {
   "cell_type": "code",
   "execution_count": 250,
   "metadata": {},
   "outputs": [],
   "source": [
    "file = open('input16.txt')\n",
    "\n",
    "transmission = file.readline()\n",
    "transmission = transmission.rstrip()\n",
    "transmission = str(bin(int(transmission,16)))[2:] #convert to binary and eliminate the first two bit indicating the binary rep.\n"
   ]
  },
  {
   "cell_type": "code",
   "execution_count": 251,
   "metadata": {},
   "outputs": [],
   "source": [
    "class Unpacked:\n",
    "    \n",
    "    def __init__(self,i,v,t,n,subpackets):\n",
    "        \n",
    "        self.i = i\n",
    "        self.v = v\n",
    "        self.t = t\n",
    "        self.n = n\n",
    "        self.subpackets = subpackets\n",
    "\n",
    "def Unpack(packet, c):\n",
    "    \n",
    "    i = c\n",
    "    V = int(packet[c:c+3],2)\n",
    "    T = int(packet[c+3:c+6],2)\n",
    "    \n",
    "    c += 6\n",
    "    \n",
    "    if T == 4:\n",
    "\n",
    "        return UnpackLiteral(packet,c,V,T)\n",
    "    \n",
    "    else:\n",
    "\n",
    "        return UnpackOperator(packet,c,V,T)\n",
    "    \n",
    "\n",
    "def UnpackLiteral(packet,c,V,T): \n",
    "    \n",
    "    i = c\n",
    "    ignore = 0\n",
    "    literal = str()\n",
    "        \n",
    "    while ignore == 0:\n",
    "\n",
    "        a = packet[c]\n",
    "        literal += packet[c+1:c+5]\n",
    "\n",
    "        if a == '1':\n",
    "\n",
    "            c += 5\n",
    "\n",
    "        elif a == '0':\n",
    "\n",
    "            ignore = 1\n",
    "            c += 5\n",
    "    \n",
    "    l = len(literal)\n",
    "    \n",
    "    while l%4 != 0: #move the cursore at the end of the padding\n",
    "        \n",
    "        l += 1\n",
    "        c += 1\n",
    "        \n",
    "    literal = int(literal,2)\n",
    "\n",
    "    return (Unpacked(i,V,T,literal,[]), c)\n",
    "\n",
    "def UnpackOperator(packet,c,V,T):\n",
    "    \n",
    "    I = packet[c]\n",
    "    \n",
    "    c += 1\n",
    "    \n",
    "    if I == '0':\n",
    "\n",
    "        L = int(packet[c:c+15],2)\n",
    "        c += 15\n",
    "        c_start = c\n",
    "        \n",
    "        subpackets = []\n",
    "        \n",
    "        while c < c_start + L:\n",
    "            \n",
    "            (s,c) = Unpack( packet, c )\n",
    "            subpackets.append(s)\n",
    "\n",
    "        return (Unpacked(i,V,T,len(subpackets),subpackets), c)\n",
    "    \n",
    "    elif I == '1':\n",
    "        \n",
    "        N = int(packet[c:c+11],2)\n",
    "        c += 11\n",
    "        \n",
    "        subpackets = []\n",
    "        \n",
    "        while len(subpackets) < N:\n",
    "            \n",
    "            (s,c) = Unpack( packet, c ) \n",
    "            subpackets.append(s)\n",
    "            \n",
    "        return (Unpacked(i,V,T,len(subpackets),subpackets), c)\n",
    "            \n",
    "\n",
    "def loopvalue(packet):\n",
    "    \n",
    "    s = 0\n",
    "    s += packet.v\n",
    "    \n",
    "    subpackets = packet.subpackets\n",
    "    \n",
    "    if subpackets != []:\n",
    "        \n",
    "        for p in subpackets:\n",
    "        \n",
    "            s += loopvalue(p)\n",
    "    \n",
    "    return s\n",
    "    \n",
    "    \n",
    "    \n",
    "    \n",
    "    "
   ]
  },
  {
   "cell_type": "code",
   "execution_count": 252,
   "metadata": {},
   "outputs": [],
   "source": [
    "c = 0\n",
    "(p,c) = Unpack(transmission,c)"
   ]
  },
  {
   "cell_type": "code",
   "execution_count": 253,
   "metadata": {},
   "outputs": [
    {
     "name": "stdout",
     "output_type": "stream",
     "text": [
      "53 1007\n"
     ]
    }
   ],
   "source": [
    "print(len(p.subpackets),loopvalue(p))"
   ]
  },
  {
   "cell_type": "code",
   "execution_count": 222,
   "metadata": {},
   "outputs": [
    {
     "data": {
      "text/plain": [
       "'0'"
      ]
     },
     "execution_count": 222,
     "metadata": {},
     "output_type": "execute_result"
    }
   ],
   "source": [
    "a = '01234'\n",
    "i = 0\n",
    "a[++i]\n"
   ]
  },
  {
   "cell_type": "code",
   "execution_count": null,
   "metadata": {},
   "outputs": [],
   "source": []
  },
  {
   "cell_type": "code",
   "execution_count": null,
   "metadata": {},
   "outputs": [],
   "source": []
  }
 ],
 "metadata": {
  "kernelspec": {
   "display_name": "Python 3",
   "language": "python",
   "name": "python3"
  },
  "language_info": {
   "codemirror_mode": {
    "name": "ipython",
    "version": 3
   },
   "file_extension": ".py",
   "mimetype": "text/x-python",
   "name": "python",
   "nbconvert_exporter": "python",
   "pygments_lexer": "ipython3",
   "version": "3.8.3"
  }
 },
 "nbformat": 4,
 "nbformat_minor": 4
}
