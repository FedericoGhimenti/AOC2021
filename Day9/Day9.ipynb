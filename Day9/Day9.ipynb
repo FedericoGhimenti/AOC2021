{
 "cells": [
  {
   "cell_type": "code",
   "execution_count": 19,
   "metadata": {},
   "outputs": [],
   "source": []
  },
  {
   "cell_type": "code",
   "execution_count": 92,
   "metadata": {},
   "outputs": [],
   "source": [
    "h = []\n",
    "#Open file\n",
    "f = open('input9.txt')\n",
    "for line in f:\n",
    "    \n",
    "    #Remove the \\n at the end of the string\n",
    "    line = line.rstrip()\n",
    "    \n",
    "    #Convert char to int and create a matrix of heights\n",
    "    h.append([int(c) for c in line])"
   ]
  },
  {
   "cell_type": "code",
   "execution_count": 93,
   "metadata": {},
   "outputs": [
    {
     "name": "stdout",
     "output_type": "stream",
     "text": [
      "545\n"
     ]
    }
   ],
   "source": [
    "X = len(h[0])\n",
    "Y = len(h)\n",
    "\n",
    "risk = 0\n",
    "min_loc = []\n",
    "\n",
    "for i in range(0,X):\n",
    "    for j in range(0,Y):\n",
    "        neigh_h = []\n",
    "        \n",
    "        #Create a list of neighbors for cell (i,j), checkinf if the cell is at the corner or boundaries\n",
    "        if i < X-1:\n",
    "            neigh_h.append(h[j][i+1])\n",
    "        if i > 0:\n",
    "            neigh_h.append(h[j][i-1])\n",
    "        if j < Y-1:\n",
    "            neigh_h.append(h[j+1][i])\n",
    "        if j > 0:\n",
    "            neigh_h.append(h[j-1][i])\n",
    "\n",
    "        #Check if the cell is a local minimimum. If yes, store its height and location\n",
    "        if all(n_h > h[j][i] for n_h in neigh_h):\n",
    "            risk += h[j][i] + 1\n",
    "            min_loc.append((i,j))\n",
    "            \n",
    "            \n",
    "print(risk)"
   ]
  },
  {
   "cell_type": "code",
   "execution_count": 94,
   "metadata": {},
   "outputs": [
    {
     "name": "stdout",
     "output_type": "stream",
     "text": [
      "950600\n"
     ]
    }
   ],
   "source": [
    "#Lists of location of cells that belong to a basin and list of basin sizes\n",
    "basin_loc = []\n",
    "basin_size = []\n",
    "\n",
    "for (i,j) in min_loc:\n",
    "    \n",
    "    #Add the local minima to the basin ensemble\n",
    "    basin_loc.append((i,j))\n",
    "    \n",
    "    #b is a list containing the location of the cell in the basin of the loca minimum (i,j), c contains the heights\n",
    "    b = []\n",
    "    c = []\n",
    "    c.append(h[j][i])\n",
    "    \n",
    "    #Check neighbors of the local minimima and add them to the basin lists\n",
    "    if i < X-1 and h[j][i+1] != 9:\n",
    "        b.append((i+1,j))\n",
    "        c.append(h[j][i+1])\n",
    "        if (i+1,j) not in basin_loc:\n",
    "            basin_loc.append((i+1,j))\n",
    "    if i > 0 and h[j][i-1] != 9:\n",
    "        b.append((i-1,j))\n",
    "        c.append(h[j][i-1])\n",
    "        if (i-1,j) not in basin_loc:\n",
    "            basin_loc.append((i-1,j))\n",
    "    if j < Y-1 and h[j+1][i] != 9:\n",
    "        b.append((i,j+1))\n",
    "        c.append(h[j+1][i])\n",
    "        if (i,j+1) not in basin_loc:\n",
    "            basin_loc.append((i,j+1))\n",
    "    if j > 0 and h[j-1][i] != 9:\n",
    "        b.append((i,j-1))\n",
    "        c.append(h[j-1][i])\n",
    "        if (i,j-1) not in basin_loc:\n",
    "            basin_loc.append((i,j-1))\n",
    "    \n",
    "    while b != []:\n",
    "        \n",
    "        #Spin Cluster algorithms! Extract indices from b to expand the cluster. Stop when there are no longer indices to extract (move to another cluster)\n",
    "        (i,j) = b.pop()\n",
    "        h_p = h[j][i] \n",
    "        \n",
    "        #Check the neighbors and possibly add them to the cluster, if the neighbors position is already in basin_loc, it means it has already been considered, hence do nothing\n",
    "        if i < X-1 and h[j][i+1] >= h_p and h[j][i+1] != 9:\n",
    "            if (i+1,j) not in basin_loc:\n",
    "                c.append(h[j][i+1])\n",
    "                basin_loc.append((i+1,j))\n",
    "                b.append((i+1,j))\n",
    "\n",
    "\n",
    "        if i > 0 and h[j][i-1] >= h_p and h[j][i-1] != 9:\n",
    "            if (i-1,j) not in basin_loc:\n",
    "                c.append(h[j][i-1])\n",
    "                basin_loc.append((i-1,j))\n",
    "                b.append((i-1,j))\n",
    "\n",
    "\n",
    "        if j < Y-1 and h[j+1][i] >= h_p and h[j+1][i] != 9:\n",
    "            if (i,j+1) not in basin_loc:\n",
    "                c.append(h[j+1][i])\n",
    "                basin_loc.append((i,j+1))\n",
    "                b.append((i,j+1))\n",
    "\n",
    "\n",
    "        if j > 0 and h[j-1][i] >= h_p and h[j-1][i] != 9:\n",
    "            if (i,j-1) not in basin_loc:\n",
    "                c.append(h[j-1][i])\n",
    "                basin_loc.append((i,j-1))\n",
    "                b.append((i,j-1))\n",
    "\n",
    "    #Add the size of the basin to the lis\n",
    "    if len(c) > 1:\n",
    "        basin_size.append(len(c))\n",
    "\n",
    "#Sort the list and giv\n",
    "basin_size.sort()\n",
    "print(basin_size[-1]*basin_size[-2]*basin_size[-3])"
   ]
  },
  {
   "cell_type": "code",
   "execution_count": 86,
   "metadata": {},
   "outputs": [],
   "source": []
  },
  {
   "cell_type": "code",
   "execution_count": 87,
   "metadata": {},
   "outputs": [
    {
     "name": "stdout",
     "output_type": "stream",
     "text": [
      "[2, 2, 2, 2, 2, 2, 2, 2, 2, 2, 2, 2, 2, 2, 2, 2, 2, 2, 3, 3, 3, 3, 3, 3, 4, 4, 4, 4, 4, 4, 4, 4, 4, 4, 4, 4, 4, 4, 5, 5, 5, 5, 5, 5, 5, 5, 6, 6, 6, 6, 7, 7, 7, 7, 7, 8, 8, 8, 9, 9, 9, 10, 10, 10, 10, 10, 11, 11, 11, 11, 11, 11, 12, 12, 12, 13, 13, 13, 13, 13, 14, 14, 14, 14, 14, 15, 15, 15, 15, 15, 16, 16, 16, 17, 17, 17, 17, 18, 18, 18, 18, 18, 18, 18, 18, 18, 19, 19, 19, 19, 20, 20, 21, 21, 21, 22, 22, 23, 23, 23, 23, 24, 24, 24, 24, 25, 25, 26, 26, 26, 26, 27, 28, 28, 29, 29, 29, 30, 30, 30, 32, 32, 33, 33, 33, 33, 33, 33, 33, 34, 34, 36, 36, 37, 37, 38, 38, 39, 39, 39, 39, 40, 40, 41, 41, 41, 41, 42, 43, 43, 44, 45, 45, 46, 46, 47, 47, 48, 50, 51, 52, 52, 52, 52, 53, 53, 53, 54, 54, 55, 55, 56, 57, 59, 59, 60, 60, 60, 60, 63, 63, 63, 63, 65, 65, 65, 66, 67, 67, 68, 68, 69, 69, 70, 72, 72, 72, 72, 73, 74, 75, 76, 77, 77, 80, 81, 81, 83, 89, 91, 93, 93, 95, 95, 97, 98, 100]\n"
     ]
    }
   ],
   "source": []
  },
  {
   "cell_type": "code",
   "execution_count": null,
   "metadata": {},
   "outputs": [],
   "source": []
  }
 ],
 "metadata": {
  "kernelspec": {
   "display_name": "Python 3",
   "language": "python",
   "name": "python3"
  },
  "language_info": {
   "codemirror_mode": {
    "name": "ipython",
    "version": 3
   },
   "file_extension": ".py",
   "mimetype": "text/x-python",
   "name": "python",
   "nbconvert_exporter": "python",
   "pygments_lexer": "ipython3",
   "version": "3.8.3"
  }
 },
 "nbformat": 4,
 "nbformat_minor": 4
}
