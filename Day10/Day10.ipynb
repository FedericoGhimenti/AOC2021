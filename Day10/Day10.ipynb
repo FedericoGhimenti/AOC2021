{
 "cells": [
  {
   "cell_type": "code",
   "execution_count": 134,
   "metadata": {},
   "outputs": [],
   "source": [
    "from statistics import median"
   ]
  },
  {
   "cell_type": "code",
   "execution_count": 135,
   "metadata": {},
   "outputs": [],
   "source": [
    "file = open('input10.txt')\n",
    "data = file.readlines()"
   ]
  },
  {
   "cell_type": "code",
   "execution_count": 136,
   "metadata": {},
   "outputs": [
    {
     "name": "stdout",
     "output_type": "stream",
     "text": [
      "392139\n"
     ]
    }
   ],
   "source": [
    "openings = ['(', '[', '{', '<']\n",
    "closures = [')', ']', '}', '>']\n",
    "err_scores = [3, 57, 1197, 25137]\n",
    "corr_scores = [1, 2, 3, 4]\n",
    "corrupted_index = []\n",
    "\n",
    "score = 0\n",
    "\n",
    "data_L = len(data)\n",
    "index = 0\n",
    "\n",
    "while index<data_L: #Loop through the lines\n",
    "        \n",
    "    line = data[index][:-1]\n",
    "    \n",
    "    L = len(line)\n",
    "    i = 0\n",
    "    error = 0\n",
    "    opened = []\n",
    "    \n",
    "    while error==0 and i<L: #Loop through a single line until an error is found or the line is finished\n",
    "        \n",
    "        c = line[i]\n",
    "\n",
    "        if c in openings: #If you find an open close, add it to the list of opened clauses\n",
    "            \n",
    "            opened.append(c)\n",
    "        \n",
    "        else:\n",
    "            \n",
    "            j = closures.index(c) #Find the corresponding opened clause\n",
    "            matching = openings[j]\n",
    "            if matching==opened[-1]: #Check if the current closed clause can be matched with the last opened clause\n",
    "                \n",
    "                opened.pop() #If yes, erase the opened clause from the list\n",
    "            \n",
    "            else: #Otherwhise the string is corrupted: collect points and the location of the corrupted string\n",
    "                error = 1\n",
    "                score += err_scores[j]\n",
    "                corrupted_index.append(index)\n",
    "                \n",
    "        \n",
    "        i+=1\n",
    "    index += 1\n",
    "                \n",
    "print(score)           \n",
    "    "
   ]
  },
  {
   "cell_type": "code",
   "execution_count": 137,
   "metadata": {},
   "outputs": [
    {
     "name": "stdout",
     "output_type": "stream",
     "text": [
      "[0, 1, 3, 4, 5, 7, 8, 9, 10, 13, 18, 19, 21, 22, 28, 31, 33, 35, 37, 39, 40, 41, 44, 45, 48, 49, 50, 51, 53, 56, 58, 60, 61, 62, 64, 65, 66, 69, 70, 71, 76, 79, 80, 81, 82, 90, 93, 97, 99, 100, 101]\n"
     ]
    }
   ],
   "source": [
    "#Generate a list without corrupted lines\n",
    "clean_data = [] \n",
    "for i in range(0,data_L):\n",
    "    if i not in corrupted_index:\n",
    "        clean_data.append(data[i])"
   ]
  },
  {
   "cell_type": "code",
   "execution_count": 139,
   "metadata": {},
   "outputs": [
    {
     "name": "stdout",
     "output_type": "stream",
     "text": [
      "4001832844\n"
     ]
    }
   ],
   "source": [
    "data_L = len(clean_data)\n",
    "scores = []\n",
    "#Same as the code for part 1, but without error checking and with score computation\n",
    "for index in range(0,data_L):\n",
    "        \n",
    "    line = clean_data[index][:-1]\n",
    "    \n",
    "    L = len(line)\n",
    "    i = 0\n",
    "    opened = []\n",
    "    \n",
    "    for i in range(0,L):\n",
    "        \n",
    "        c = line[i]\n",
    "\n",
    "        if c in openings:\n",
    "            \n",
    "            opened.append(c)\n",
    "        \n",
    "        else:\n",
    "            \n",
    "            j = closures.index(c)\n",
    "            matching = openings[j]\n",
    "            \n",
    "            if matching==opened[-1]:\n",
    "                \n",
    "                opened.pop()\n",
    "    \n",
    "    #Once a string has been read and all the uncomplete chinks are collected in the list opened, compute the score\n",
    "    s = 0\n",
    "    opened.reverse() #Closure happens in the reverse order of opening\n",
    "    for c in opened:\n",
    "        #compute the score\n",
    "        j = openings.index(c)\n",
    "        s *= 5\n",
    "        s += corr_scores[j]\n",
    "    scores.append(s)\n",
    "                \n",
    "                          \n",
    "    index += 1\n",
    "                \n",
    "#order the scores and find the median\n",
    "scores.sort()\n",
    "print(median(scores))"
   ]
  },
  {
   "cell_type": "code",
   "execution_count": null,
   "metadata": {},
   "outputs": [],
   "source": []
  }
 ],
 "metadata": {
  "kernelspec": {
   "display_name": "Python 3",
   "language": "python",
   "name": "python3"
  },
  "language_info": {
   "codemirror_mode": {
    "name": "ipython",
    "version": 3
   },
   "file_extension": ".py",
   "mimetype": "text/x-python",
   "name": "python",
   "nbconvert_exporter": "python",
   "pygments_lexer": "ipython3",
   "version": "3.8.3"
  }
 },
 "nbformat": 4,
 "nbformat_minor": 4
}
