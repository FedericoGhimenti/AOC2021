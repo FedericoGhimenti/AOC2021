{
 "cells": [
  {
   "cell_type": "code",
   "execution_count": 186,
   "metadata": {},
   "outputs": [],
   "source": [
    "from parse import parse\n",
    "import numpy as np\n",
    "\n",
    "f = open('input13.txt')\n",
    "\n",
    "dot = [] #dots coordinate\n",
    "instruction = [] #instruction list: [axis, coordinate] \n",
    "\n",
    "f = f.readlines()\n",
    "\n",
    "for l in f:\n",
    "    \n",
    "    l = l.strip() #remove '\\n'\n",
    "    \n",
    "    if not l.startswith('fold'): #if it is a dot coordinate\n",
    "        \n",
    "        l = l.strip()\n",
    "        l = l.split(',')\n",
    "\n",
    "        i = int(l[0])\n",
    "        j = int(l[1])\n",
    "        \n",
    "        dot.append([i,j])\n",
    "        \n",
    "    elif l != '\\n': #if it is an unstruction coordinate\n",
    "\n",
    "        coord, n = parse('fold along {:l}={:d}', l)\n",
    "        instruction.append([coord, n])"
   ]
  },
  {
   "cell_type": "code",
   "execution_count": 187,
   "metadata": {},
   "outputs": [],
   "source": [
    "def MakeDots(sheet, dot): #From the dot coordinates makje a sheet full of 0s for emptyspaces and 1s for dots\n",
    "    \n",
    "    for d in dot:\n",
    "\n",
    "        sheet[d[1]][d[0]] = 1\n",
    "        \n",
    "def Fold(sheet, axis, coord): #Fold along the given axis at coordinate coord\n",
    "    \n",
    "    lx = len(sheet[0])\n",
    "    ly = len(sheet)\n",
    "    \n",
    "    if axis == 'x':\n",
    "        \n",
    "        x = coord\n",
    "        \n",
    "        new_lx = int((lx - 1) / 2) #length of the new sheet\n",
    "        new_sheet = np.zeros( (ly , new_lx) ) #new sheet\n",
    "        \n",
    "        for i in range(0, new_lx):\n",
    "            \n",
    "            for j in range(0, ly):\n",
    "                \n",
    "                new_sheet[j][i] = max([sheet[j][i], sheet[j][2*x - i]]) #superimpose the points of the sheet\n",
    "                \n",
    "    else:\n",
    "        \n",
    "        y = coord\n",
    "        \n",
    "        new_ly = int((ly - 1) / 2)\n",
    "        new_sheet = np.zeros( (new_ly, lx) )\n",
    "        \n",
    "        for i in range(0, lx):\n",
    "            \n",
    "            for j in range(0, new_ly):\n",
    "                \n",
    "                new_sheet[j][i] = max([sheet[j][i], sheet[2*y - j][i]])\n",
    "                \n",
    "    return new_sheet\n",
    "\n",
    "def CountDots(sheet): #return the total number of visible dots\n",
    "    \n",
    "    d = 0\n",
    "    \n",
    "    for line in sheet:\n",
    "        \n",
    "        for point in line:\n",
    "                \n",
    "                if point == 1:\n",
    "                    \n",
    "                    d += 1\n",
    "            \n",
    "    return d\n",
    "\n",
    "def WriteAnswer(sheet): #convert the sheet of numbers in a string with '#' for the dots and '.' for the empty space\n",
    "    \n",
    "    answer = str()\n",
    "\n",
    "    for line in sheet:\n",
    "        for d in line:\n",
    "            if d == 0:\n",
    "                answer += '.'\n",
    "            else:\n",
    "                answer += '#'\n",
    "        answer += '\\n'\n",
    "        \n",
    "    print(answer)\n",
    "    \n",
    "    return\n"
   ]
  },
  {
   "cell_type": "code",
   "execution_count": 188,
   "metadata": {},
   "outputs": [],
   "source": [
    "dot = np.array(dot)\n",
    "lx = np.max(dot[:,0]) + 1\n",
    "ly = np.max(dot[:,1]) + 1\n",
    "\n",
    "sheet = np.zeros((ly,lx))\n",
    "\n",
    "MakeDots(sheet, dot)"
   ]
  },
  {
   "cell_type": "code",
   "execution_count": 189,
   "metadata": {},
   "outputs": [
    {
     "name": "stdout",
     "output_type": "stream",
     "text": [
      "After one folding operation there are 631 visible dots\n"
     ]
    }
   ],
   "source": [
    "sheet = Fold(sheet, instruction[0][0], instruction[0][1]) #do the first folding\n",
    "result = CountDots(sheet) #count the visible dots\n",
    "\n",
    "print('After one folding operation there are ' + str(result) + ' visible dots')"
   ]
  },
  {
   "cell_type": "code",
   "execution_count": 190,
   "metadata": {},
   "outputs": [
    {
     "name": "stdout",
     "output_type": "stream",
     "text": [
      "####.####.#....####...##..##..###..####.\n",
      "#....#....#....#.......#.#..#.#..#.#....\n",
      "###..###..#....###.....#.#....#..#.###..\n",
      "#....#....#....#.......#.#.##.###..#....\n",
      "#....#....#....#....#..#.#..#.#.#..#....\n",
      "####.#....####.#.....##...###.#..#.#....\n",
      "\n"
     ]
    }
   ],
   "source": [
    "for i in instruction[1:]: #do the other foldings\n",
    "\n",
    "    sheet = Fold(sheet, i[0], i[1])\n",
    "    \n",
    "WriteAnswer(sheet) #print the answer as a string\n",
    "    "
   ]
  },
  {
   "cell_type": "code",
   "execution_count": null,
   "metadata": {},
   "outputs": [],
   "source": []
  }
 ],
 "metadata": {
  "kernelspec": {
   "display_name": "Python 3",
   "language": "python",
   "name": "python3"
  },
  "language_info": {
   "codemirror_mode": {
    "name": "ipython",
    "version": 3
   },
   "file_extension": ".py",
   "mimetype": "text/x-python",
   "name": "python",
   "nbconvert_exporter": "python",
   "pygments_lexer": "ipython3",
   "version": "3.8.3"
  }
 },
 "nbformat": 4,
 "nbformat_minor": 4
}
