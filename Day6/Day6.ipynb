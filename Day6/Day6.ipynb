{
 "cells": [
  {
   "cell_type": "code",
   "execution_count": 4,
   "metadata": {},
   "outputs": [],
   "source": [
    "f = open('input6.txt')\n",
    "line = f.readline()\n",
    "fish = line.split(',')\n",
    "fish = list((map(int,fish)))"
   ]
  },
  {
   "cell_type": "code",
   "execution_count": 2,
   "metadata": {},
   "outputs": [
    {
     "name": "stdout",
     "output_type": "stream",
     "text": [
      "360761\n"
     ]
    }
   ],
   "source": [
    "days = 80\n",
    "x = len(fish)\n",
    "for day in range(0,days):\n",
    "    for i in range(0,x):\n",
    "        if fish[i] == 0:\n",
    "            fish.append(8)\n",
    "            fish[i] = 6\n",
    "        else:\n",
    "            fish[i] -= 1\n",
    "    x = len(fish)\n",
    "print(x)"
   ]
  },
  {
   "cell_type": "code",
   "execution_count": 6,
   "metadata": {},
   "outputs": [
    {
     "name": "stdout",
     "output_type": "stream",
     "text": [
      "1632779838045\n"
     ]
    }
   ],
   "source": [
    "\n",
    "f = open('input6.txt')\n",
    "line = f.readline()\n",
    "fish = line.split(',')\n",
    "fish = list((map(int,fish)))\n",
    "\n",
    "days = 256\n",
    "x = len(fish)\n",
    "bday = [0]*days\n",
    "for parent in fish:\n",
    "    c = parent\n",
    "    while c < days:\n",
    "        bday[c] += 1\n",
    "        c += 7\n",
    "\n",
    "for i in range(0,days):\n",
    "    c = 8 + i + 1\n",
    "    while c < days:\n",
    "        bday[c] += bday[i]\n",
    "        c += 7\n",
    "print(sum(bday)+x)"
   ]
  },
  {
   "cell_type": "code",
   "execution_count": null,
   "metadata": {},
   "outputs": [],
   "source": []
  }
 ],
 "metadata": {
  "kernelspec": {
   "display_name": "Python 3",
   "language": "python",
   "name": "python3"
  },
  "language_info": {
   "codemirror_mode": {
    "name": "ipython",
    "version": 3
   },
   "file_extension": ".py",
   "mimetype": "text/x-python",
   "name": "python",
   "nbconvert_exporter": "python",
   "pygments_lexer": "ipython3",
   "version": "3.8.3"
  }
 },
 "nbformat": 4,
 "nbformat_minor": 4
}
