{
 "cells": [
  {
   "cell_type": "code",
   "execution_count": 231,
   "metadata": {},
   "outputs": [],
   "source": [
    "file = open('input11.txt')\n",
    "\n",
    "grid = []\n",
    "for line in file:\n",
    "    array = []\n",
    "    for c in line[:-1]:\n",
    "        array.append(int(c))\n",
    "    grid.append(array)"
   ]
  },
  {
   "cell_type": "code",
   "execution_count": 232,
   "metadata": {},
   "outputs": [],
   "source": [
    "def UpdateGrid(n,m,grid): #Increase all the energy of the octopuses by one\n",
    "    \n",
    "    for i in range(0,n):\n",
    "        \n",
    "        for j in range(0,m):\n",
    "            \n",
    "            grid[j][i] += 1\n",
    "    \n",
    "    return\n",
    "\n",
    "\n",
    "def FindFlashing(nx, ny, grid, flashing, flashed): #Check which octopuses have enough energy to flash\n",
    "    \n",
    "    for i in range(0,nx):\n",
    "        \n",
    "        for j in range(0,ny):\n",
    "            \n",
    "            if grid[j][i] > 9 and flashed[j][i] == 0: #consider only octopues that have not flashed yet\n",
    "                \n",
    "                flashing.append((i,j)) #add the octopus to the list of flashing octopuses\n",
    "                flashed[j][i] = 1\n",
    "    \n",
    "    return\n",
    "\n",
    "\n",
    "def PropagateFlash(x, y, nx, ny, grid, flashing, flashed): #propagate the energy to the neighbors of a flashing octopus\n",
    "    \n",
    "    neighbors = FindNeighbors(x,y,nx,ny) #create an array with the locations of the neighbors of (x,y)\n",
    "    \n",
    "    for neigh in neighbors:\n",
    "        \n",
    "        (i,j) = neigh\n",
    "        grid[j][i] += 1 #increase the energy of the neighbors\n",
    "        \n",
    "        if grid[j][i] > 9 and flashed[j][i] == 0: #add the neighbors to the flashing list if you can\n",
    "                \n",
    "                flashing.append((i,j))\n",
    "                flashed[j][i] = 1\n",
    "        \n",
    "    return\n",
    "\n",
    "\n",
    "def FindNeighbors(x,y,nx,ny): #Returns an array of tuples (i,j) with the coordinates of the neighbors of (x-y)\n",
    "    \n",
    "    result = []\n",
    "    \n",
    "    for dx in [-1,0,1]:\n",
    "            \n",
    "        for dy in [-1,0,1]:\n",
    "            \n",
    "            xnew = x+dx\n",
    "            ynew = y+dy\n",
    "            \n",
    "            if xnew >= 0 and xnew < nx and ynew >= 0 and ynew < ny:\n",
    "                \n",
    "                result.append((x+dx,y+dy))\n",
    "                \n",
    "    return result\n",
    "\n",
    "\n",
    "def CheckSynchro(nx,ny,flashed): #If all the octopuses are flashing, return True\n",
    "    \n",
    "    for i in range(0,nx):\n",
    "        \n",
    "        for j in range(0,ny):\n",
    "            \n",
    "            if flashed[j][i] == 0:\n",
    "                \n",
    "                return False\n",
    "            \n",
    "    return True\n",
    "\n",
    "\n",
    "def Reset(nx,ny,grid,flashed): #Reset all flashing flag to 0 and reset to 0 the energy of octopuses that have flashed\n",
    "    \n",
    "    for i in range(0,nx):\n",
    "        \n",
    "        for j in range(0,ny):\n",
    "            \n",
    "            grid[j][i] *= (1 - flashed[j][i])\n",
    "            flashed[j][i] = 0"
   ]
  },
  {
   "cell_type": "code",
   "execution_count": 233,
   "metadata": {},
   "outputs": [
    {
     "name": "stdout",
     "output_type": "stream",
     "text": [
      "8864 510\n"
     ]
    }
   ],
   "source": [
    "nx = len(grid[0])\n",
    "ny = len(grid)\n",
    "N = 100\n",
    "\n",
    "flashes = 0 #flash counter\n",
    "Sync = 0 #synchronisation flag \n",
    "flashed = [[0 for i in range(0,nx)] for j in range(0,ny)] #flashed[i][j] = 1 if octopus (i,j) is flashing, otherwhise is 1\n",
    "\n",
    "for i in range(0,N):\n",
    "        \n",
    "    UpdateGrid(nx,ny,grid)\n",
    "    \n",
    "    flashing = [] #list the coordinates of the octopuses that are flashing at step i\n",
    "    \n",
    "    FindFlashing(nx, ny, grid, flashing, flashed)\n",
    "    \n",
    "    \n",
    "    while flashing != []: #loop through the flashing octopuses until the list is empty\n",
    "        \n",
    "        flashes += 1\n",
    "        \n",
    "        (x,y) = flashing.pop() #remove a flashingoctopus from the list\n",
    "\n",
    "        PropagateFlash(x,y,nx,ny,grid,flashing,flashed)\n",
    "                \n",
    "        FindFlashing(nx, ny, grid, flashing, flashed)\n",
    "    \n",
    "    \n",
    "    if CheckSynchro(nx,ny,flashed) == True and Sync == 0: #Check Syn\n",
    "        Sync = i+1 \n",
    "            \n",
    "    Reset(nx,ny,grid,flashed)\n",
    "        \n",
    "print(flashes,Sync)"
   ]
  },
  {
   "cell_type": "code",
   "execution_count": 117,
   "metadata": {},
   "outputs": [],
   "source": []
  },
  {
   "cell_type": "code",
   "execution_count": 197,
   "metadata": {},
   "outputs": [
    {
     "ename": "AttributeError",
     "evalue": "'list' object has no attribute 'all'",
     "output_type": "error",
     "traceback": [
      "\u001b[0;31m---------------------------------------------------------------------------\u001b[0m",
      "\u001b[0;31mAttributeError\u001b[0m                            Traceback (most recent call last)",
      "\u001b[0;32m<ipython-input-197-1787353954cd>\u001b[0m in \u001b[0;36m<module>\u001b[0;34m\u001b[0m\n\u001b[1;32m      1\u001b[0m \u001b[0ma\u001b[0m \u001b[0;34m=\u001b[0m \u001b[0;34m[\u001b[0m\u001b[0;36m0\u001b[0m\u001b[0;34m,\u001b[0m\u001b[0;36m1\u001b[0m\u001b[0;34m]\u001b[0m\u001b[0;34m\u001b[0m\u001b[0;34m\u001b[0m\u001b[0m\n\u001b[0;32m----> 2\u001b[0;31m \u001b[0ma\u001b[0m\u001b[0;34m.\u001b[0m\u001b[0mall\u001b[0m\u001b[0;34m(\u001b[0m\u001b[0;36m0\u001b[0m\u001b[0;34m)\u001b[0m\u001b[0;34m\u001b[0m\u001b[0;34m\u001b[0m\u001b[0m\n\u001b[0m\u001b[1;32m      3\u001b[0m \u001b[0mb\u001b[0m \u001b[0;34m=\u001b[0m \u001b[0;34m[\u001b[0m\u001b[0;36m6\u001b[0m\u001b[0;34m]\u001b[0m\u001b[0;34m\u001b[0m\u001b[0;34m\u001b[0m\u001b[0m\n\u001b[1;32m      4\u001b[0m \u001b[0ma\u001b[0m \u001b[0;34m=\u001b[0m \u001b[0mappend\u001b[0m\u001b[0;34m(\u001b[0m\u001b[0;36m3\u001b[0m\u001b[0;34m,\u001b[0m\u001b[0ma\u001b[0m\u001b[0;34m)\u001b[0m\u001b[0;34m\u001b[0m\u001b[0;34m\u001b[0m\u001b[0m\n",
      "\u001b[0;31mAttributeError\u001b[0m: 'list' object has no attribute 'all'"
     ]
    }
   ],
   "source": []
  },
  {
   "cell_type": "code",
   "execution_count": 109,
   "metadata": {},
   "outputs": [],
   "source": []
  },
  {
   "cell_type": "code",
   "execution_count": null,
   "metadata": {},
   "outputs": [],
   "source": []
  }
 ],
 "metadata": {
  "kernelspec": {
   "display_name": "Python 3",
   "language": "python",
   "name": "python3"
  },
  "language_info": {
   "codemirror_mode": {
    "name": "ipython",
    "version": 3
   },
   "file_extension": ".py",
   "mimetype": "text/x-python",
   "name": "python",
   "nbconvert_exporter": "python",
   "pygments_lexer": "ipython3",
   "version": "3.8.3"
  }
 },
 "nbformat": 4,
 "nbformat_minor": 4
}
